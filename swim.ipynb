{
 "cells": [
  {
   "cell_type": "code",
   "execution_count": 39,
   "metadata": {},
   "outputs": [],
   "source": [
    "FOLDER = \"swimdata/\"\n",
    "FN = \"Darius-13-100m-Fly.txt\""
   ]
  },
  {
   "cell_type": "code",
   "execution_count": 40,
   "metadata": {},
   "outputs": [],
   "source": [
    "with open(FOLDER + FN) as file:\n",
    "    lines = file.readlines()"
   ]
  },
  {
   "cell_type": "code",
   "execution_count": 41,
   "metadata": {},
   "outputs": [],
   "source": [
    "lines[0].strip().split(\",\")\n",
    "times = lines[0].strip().split(\",\")"
   ]
  },
  {
   "cell_type": "code",
   "execution_count": 42,
   "metadata": {},
   "outputs": [
    {
     "data": {
      "text/plain": [
       "['1:27.95', '1:21.07', '1:30.96', '1:23.22', '1:27.95', '1:28.30']"
      ]
     },
     "execution_count": 42,
     "metadata": {},
     "output_type": "execute_result"
    }
   ],
   "source": [
    "times"
   ]
  },
  {
   "cell_type": "code",
   "execution_count": 43,
   "metadata": {},
   "outputs": [
    {
     "data": {
      "text/plain": [
       "['1:27.95', '1:21.07', '1:30.96', '1:23.22', '1:27.95', '1:28.30']"
      ]
     },
     "execution_count": 43,
     "metadata": {},
     "output_type": "execute_result"
    }
   ],
   "source": [
    "FN.removesuffix(\".txt\").split(\"-\")\n",
    "lines[0].strip().split(\",\")"
   ]
  },
  {
   "cell_type": "code",
   "execution_count": 44,
   "metadata": {},
   "outputs": [
    {
     "name": "stdout",
     "output_type": "stream",
     "text": [
      "8795\n"
     ]
    }
   ],
   "source": [
    "# Start with the strong\n",
    "first = times[0]\n",
    "\n",
    "# Extract the component parts: start with the minutes value.\n",
    "minutes , rest = first.split(\":\")\n",
    "# Extract the component parts grab the seconds and hundreths values.\n",
    "seconds, hundredths = rest.split(\".\")\n",
    "\n",
    "# Convert the strings to numbers with the help of another BIF called \"int\", then perform the calculations\n",
    "converted_time = (int(minutes) * 60 * 100) + (int(seconds) * 100 ) + int(hundredths)\n",
    "\n",
    "# Display the result.\n",
    "print(converted_time)"
   ]
  },
  {
   "cell_type": "code",
   "execution_count": 45,
   "metadata": {},
   "outputs": [
    {
     "name": "stdout",
     "output_type": "stream",
     "text": [
      "1:27.95\n",
      "1:21.07\n",
      "1:30.96\n",
      "1:23.22\n",
      "1:27.95\n",
      "1:28.30\n"
     ]
    }
   ],
   "source": [
    "for t in times:\n",
    "    print(t)"
   ]
  },
  {
   "cell_type": "code",
   "execution_count": 57,
   "metadata": {},
   "outputs": [
    {
     "name": "stdout",
     "output_type": "stream",
     "text": [
      "1:27.95 -> 8795\n",
      "1:21.07 -> 8107\n",
      "1:30.96 -> 9096\n",
      "1:23.22 -> 8322\n",
      "1:27.95 -> 8795\n",
      "1:28.30 -> 8830\n"
     ]
    }
   ],
   "source": [
    "for t in times:\n",
    "    minutes, rest = t.split(\":\")\n",
    "    seconds, hundredths = rest.split(\".\")\n",
    "    print(t, \"->\", (int(minutes) * 60 * 100) + (int(seconds) * 100) + int(hundredths))"
   ]
  },
  {
   "cell_type": "code",
   "execution_count": null,
   "metadata": {},
   "outputs": [],
   "source": []
  }
 ],
 "metadata": {
  "kernelspec": {
   "display_name": "Python 3",
   "language": "python",
   "name": "python3"
  },
  "language_info": {
   "codemirror_mode": {
    "name": "ipython",
    "version": 3
   },
   "file_extension": ".py",
   "mimetype": "text/x-python",
   "name": "python",
   "nbconvert_exporter": "python",
   "pygments_lexer": "ipython3",
   "version": "3.11.4"
  }
 },
 "nbformat": 4,
 "nbformat_minor": 2
}
